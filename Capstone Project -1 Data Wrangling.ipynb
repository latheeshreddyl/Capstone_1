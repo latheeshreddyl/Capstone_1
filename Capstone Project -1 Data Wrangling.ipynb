{
 "cells": [
  {
   "cell_type": "markdown",
   "metadata": {},
   "source": [
    "# Import Libraries"
   ]
  },
  {
   "cell_type": "code",
   "execution_count": 3,
   "metadata": {},
   "outputs": [],
   "source": [
    "import os\n",
    "import pandas as pd\n",
    "import time\n",
    "from datetime import datetime\n",
    "import matplotlib.pyplot as plt"
   ]
  },
  {
   "cell_type": "markdown",
   "metadata": {},
   "source": [
    "# Exploring data and cleaning data"
   ]
  },
  {
   "cell_type": "code",
   "execution_count": 5,
   "metadata": {},
   "outputs": [
    {
     "data": {
      "text/plain": [
       "'C:\\\\Users\\\\reddyl\\\\Jupytertests\\\\Capstone - 1'"
      ]
     },
     "execution_count": 5,
     "metadata": {},
     "output_type": "execute_result"
    }
   ],
   "source": [
    "os.getcwd()"
   ]
  },
  {
   "cell_type": "code",
   "execution_count": 6,
   "metadata": {},
   "outputs": [
    {
     "name": "stdout",
     "output_type": "stream",
     "text": [
      " Volume in drive C is OSDisk\n",
      " Volume Serial Number is 6856-3941\n",
      "\n",
      " Directory of C:\\Users\\reddyl\\Jupytertests\\Capstone - 1\n",
      "\n",
      "06/25/2020  06:48 PM    <DIR>          .\n",
      "06/25/2020  06:48 PM    <DIR>          ..\n",
      "06/24/2020  04:03 PM    <DIR>          .ipynb_checkpoints\n",
      "06/25/2020  06:48 PM            69,367 Capstone Project -1 Data Wrangling.ipynb\n",
      "06/25/2020  06:44 PM    <DIR>          data\n",
      "06/24/2020  05:48 PM         8,405,196 members_modified.csv\n",
      "11/13/2017  12:38 PM       427,921,437 members_v3.csv\n",
      "09/14/2017  11:23 AM        46,667,771 train.csv\n",
      "06/24/2020  05:07 PM         6,646,623 train_modified.csv\n",
      "09/14/2017  11:28 AM     1,729,298,376 transactions.csv\n",
      "06/24/2020  06:34 PM       177,172,573 trasactions_modified.csv\n",
      "09/14/2017  12:43 PM    30,514,081,415 user_logs.csv\n",
      "11/03/2017  04:32 PM     1,431,465,728 user_logs_v2.csv\n",
      "06/25/2020  06:42 PM       685,951,221 user_logs_v2.csv.7z\n",
      "              10 File(s) 35,027,679,707 bytes\n",
      "               4 Dir(s)  230,760,042,496 bytes free\n"
     ]
    }
   ],
   "source": [
    "ls\n"
   ]
  },
  {
   "cell_type": "markdown",
   "metadata": {},
   "source": [
    "# Train data set\n",
    "Train data set has user ids and whether they have churned or not\n",
    "\n",
    ".is_churn = 1 means churn      \n",
    ".is_churn = 0 means renewal"
   ]
  },
  {
   "cell_type": "code",
   "execution_count": 7,
   "metadata": {},
   "outputs": [],
   "source": [
    "traindf = pd.read_csv('train.csv')"
   ]
  },
  {
   "cell_type": "code",
   "execution_count": 8,
   "metadata": {},
   "outputs": [
    {
     "data": {
      "text/html": [
       "<div>\n",
       "<style scoped>\n",
       "    .dataframe tbody tr th:only-of-type {\n",
       "        vertical-align: middle;\n",
       "    }\n",
       "\n",
       "    .dataframe tbody tr th {\n",
       "        vertical-align: top;\n",
       "    }\n",
       "\n",
       "    .dataframe thead th {\n",
       "        text-align: right;\n",
       "    }\n",
       "</style>\n",
       "<table border=\"1\" class=\"dataframe\">\n",
       "  <thead>\n",
       "    <tr style=\"text-align: right;\">\n",
       "      <th></th>\n",
       "      <th>msno</th>\n",
       "      <th>is_churn</th>\n",
       "    </tr>\n",
       "  </thead>\n",
       "  <tbody>\n",
       "    <tr>\n",
       "      <th>0</th>\n",
       "      <td>waLDQMmcOu2jLDaV1ddDkgCrB/jl6sD66Xzs0Vqax1Y=</td>\n",
       "      <td>1</td>\n",
       "    </tr>\n",
       "    <tr>\n",
       "      <th>1</th>\n",
       "      <td>QA7uiXy8vIbUSPOkCf9RwQ3FsT8jVq2OxDr8zqa7bRQ=</td>\n",
       "      <td>1</td>\n",
       "    </tr>\n",
       "    <tr>\n",
       "      <th>2</th>\n",
       "      <td>fGwBva6hikQmTJzrbz/2Ezjm5Cth5jZUNvXigKK2AFA=</td>\n",
       "      <td>1</td>\n",
       "    </tr>\n",
       "    <tr>\n",
       "      <th>3</th>\n",
       "      <td>mT5V8rEpa+8wuqi6x0DoVd3H5icMKkE9Prt49UlmK+4=</td>\n",
       "      <td>1</td>\n",
       "    </tr>\n",
       "    <tr>\n",
       "      <th>4</th>\n",
       "      <td>XaPhtGLk/5UvvOYHcONTwsnH97P4eGECeq+BARGItRw=</td>\n",
       "      <td>1</td>\n",
       "    </tr>\n",
       "  </tbody>\n",
       "</table>\n",
       "</div>"
      ],
      "text/plain": [
       "                                           msno  is_churn\n",
       "0  waLDQMmcOu2jLDaV1ddDkgCrB/jl6sD66Xzs0Vqax1Y=         1\n",
       "1  QA7uiXy8vIbUSPOkCf9RwQ3FsT8jVq2OxDr8zqa7bRQ=         1\n",
       "2  fGwBva6hikQmTJzrbz/2Ezjm5Cth5jZUNvXigKK2AFA=         1\n",
       "3  mT5V8rEpa+8wuqi6x0DoVd3H5icMKkE9Prt49UlmK+4=         1\n",
       "4  XaPhtGLk/5UvvOYHcONTwsnH97P4eGECeq+BARGItRw=         1"
      ]
     },
     "execution_count": 8,
     "metadata": {},
     "output_type": "execute_result"
    }
   ],
   "source": [
    "traindf.head()"
   ]
  },
  {
   "cell_type": "code",
   "execution_count": 9,
   "metadata": {},
   "outputs": [
    {
     "name": "stdout",
     "output_type": "stream",
     "text": [
      "<class 'pandas.core.frame.DataFrame'>\n",
      "RangeIndex: 992931 entries, 0 to 992930\n",
      "Data columns (total 2 columns):\n",
      " #   Column    Non-Null Count   Dtype \n",
      "---  ------    --------------   ----- \n",
      " 0   msno      992931 non-null  object\n",
      " 1   is_churn  992931 non-null  int64 \n",
      "dtypes: int64(1), object(1)\n",
      "memory usage: 15.2+ MB\n"
     ]
    }
   ],
   "source": [
    "traindf.info()"
   ]
  },
  {
   "cell_type": "code",
   "execution_count": 10,
   "metadata": {},
   "outputs": [
    {
     "data": {
      "text/html": [
       "<div>\n",
       "<style scoped>\n",
       "    .dataframe tbody tr th:only-of-type {\n",
       "        vertical-align: middle;\n",
       "    }\n",
       "\n",
       "    .dataframe tbody tr th {\n",
       "        vertical-align: top;\n",
       "    }\n",
       "\n",
       "    .dataframe thead th {\n",
       "        text-align: right;\n",
       "    }\n",
       "</style>\n",
       "<table border=\"1\" class=\"dataframe\">\n",
       "  <thead>\n",
       "    <tr style=\"text-align: right;\">\n",
       "      <th></th>\n",
       "      <th>is_churn</th>\n",
       "    </tr>\n",
       "  </thead>\n",
       "  <tbody>\n",
       "    <tr>\n",
       "      <th>count</th>\n",
       "      <td>992931.000000</td>\n",
       "    </tr>\n",
       "    <tr>\n",
       "      <th>mean</th>\n",
       "      <td>0.063923</td>\n",
       "    </tr>\n",
       "    <tr>\n",
       "      <th>std</th>\n",
       "      <td>0.244616</td>\n",
       "    </tr>\n",
       "    <tr>\n",
       "      <th>min</th>\n",
       "      <td>0.000000</td>\n",
       "    </tr>\n",
       "    <tr>\n",
       "      <th>25%</th>\n",
       "      <td>0.000000</td>\n",
       "    </tr>\n",
       "    <tr>\n",
       "      <th>50%</th>\n",
       "      <td>0.000000</td>\n",
       "    </tr>\n",
       "    <tr>\n",
       "      <th>75%</th>\n",
       "      <td>0.000000</td>\n",
       "    </tr>\n",
       "    <tr>\n",
       "      <th>max</th>\n",
       "      <td>1.000000</td>\n",
       "    </tr>\n",
       "  </tbody>\n",
       "</table>\n",
       "</div>"
      ],
      "text/plain": [
       "            is_churn\n",
       "count  992931.000000\n",
       "mean        0.063923\n",
       "std         0.244616\n",
       "min         0.000000\n",
       "25%         0.000000\n",
       "50%         0.000000\n",
       "75%         0.000000\n",
       "max         1.000000"
      ]
     },
     "execution_count": 10,
     "metadata": {},
     "output_type": "execute_result"
    }
   ],
   "source": [
    "traindf.describe()"
   ]
  },
  {
   "cell_type": "markdown",
   "metadata": {},
   "source": [
    "Train data set has churn information for about 992931 users and looks like majority (nearly 94%) of the members renewed their subscription.\n",
    "To make our training set meaningful to predict a model, lets downsample majority group to ensure equal representation of the churn and non-churn data."
   ]
  },
  {
   "cell_type": "code",
   "execution_count": 11,
   "metadata": {},
   "outputs": [],
   "source": [
    "churn = traindf[traindf.is_churn == 1]\n",
    "non_churn = traindf[traindf.is_churn == 0]\n",
    "#non_churn.head()\n",
    "\n",
    "#sample non_churn group\n",
    "non_churn_sample = non_churn.msno.sample(n=75000, random_state=3).tolist()\n",
    "non_churn = traindf[traindf.msno.isin(non_churn_sample)]\n",
    "\n",
    "#concatenate both dataframes\n",
    "traindf = pd.concat([churn,non_churn])\n",
    "traindf.reset_index(drop=True, inplace = True)\n",
    "#non_churn_sample"
   ]
  },
  {
   "cell_type": "code",
   "execution_count": 12,
   "metadata": {},
   "outputs": [
    {
     "data": {
      "text/html": [
       "<div>\n",
       "<style scoped>\n",
       "    .dataframe tbody tr th:only-of-type {\n",
       "        vertical-align: middle;\n",
       "    }\n",
       "\n",
       "    .dataframe tbody tr th {\n",
       "        vertical-align: top;\n",
       "    }\n",
       "\n",
       "    .dataframe thead th {\n",
       "        text-align: right;\n",
       "    }\n",
       "</style>\n",
       "<table border=\"1\" class=\"dataframe\">\n",
       "  <thead>\n",
       "    <tr style=\"text-align: right;\">\n",
       "      <th></th>\n",
       "      <th>is_churn</th>\n",
       "    </tr>\n",
       "  </thead>\n",
       "  <tbody>\n",
       "    <tr>\n",
       "      <th>count</th>\n",
       "      <td>138471.000000</td>\n",
       "    </tr>\n",
       "    <tr>\n",
       "      <th>mean</th>\n",
       "      <td>0.458370</td>\n",
       "    </tr>\n",
       "    <tr>\n",
       "      <th>std</th>\n",
       "      <td>0.498266</td>\n",
       "    </tr>\n",
       "    <tr>\n",
       "      <th>min</th>\n",
       "      <td>0.000000</td>\n",
       "    </tr>\n",
       "    <tr>\n",
       "      <th>25%</th>\n",
       "      <td>0.000000</td>\n",
       "    </tr>\n",
       "    <tr>\n",
       "      <th>50%</th>\n",
       "      <td>0.000000</td>\n",
       "    </tr>\n",
       "    <tr>\n",
       "      <th>75%</th>\n",
       "      <td>1.000000</td>\n",
       "    </tr>\n",
       "    <tr>\n",
       "      <th>max</th>\n",
       "      <td>1.000000</td>\n",
       "    </tr>\n",
       "  </tbody>\n",
       "</table>\n",
       "</div>"
      ],
      "text/plain": [
       "            is_churn\n",
       "count  138471.000000\n",
       "mean        0.458370\n",
       "std         0.498266\n",
       "min         0.000000\n",
       "25%         0.000000\n",
       "50%         0.000000\n",
       "75%         1.000000\n",
       "max         1.000000"
      ]
     },
     "execution_count": 12,
     "metadata": {},
     "output_type": "execute_result"
    }
   ],
   "source": [
    "traindf.describe()"
   ]
  },
  {
   "cell_type": "code",
   "execution_count": 13,
   "metadata": {},
   "outputs": [],
   "source": [
    "traindf.to_csv('train_modified.csv',index=False)"
   ]
  },
  {
   "cell_type": "markdown",
   "metadata": {},
   "source": [
    "The train data has 138471 users now without any bias"
   ]
  },
  {
   "cell_type": "markdown",
   "metadata": {},
   "source": [
    "# Members data"
   ]
  },
  {
   "cell_type": "markdown",
   "metadata": {},
   "source": [
    ".msno\n",
    ".city\n",
    ".bd: age.  \n",
    ".gender\n",
    ".registered_via: \n",
    ".registration_init_time \n",
    " "
   ]
  },
  {
   "cell_type": "code",
   "execution_count": 26,
   "metadata": {},
   "outputs": [],
   "source": [
    "membersdf = pd.read_csv('members_v3.csv')"
   ]
  },
  {
   "cell_type": "code",
   "execution_count": 27,
   "metadata": {},
   "outputs": [
    {
     "data": {
      "text/html": [
       "<div>\n",
       "<style scoped>\n",
       "    .dataframe tbody tr th:only-of-type {\n",
       "        vertical-align: middle;\n",
       "    }\n",
       "\n",
       "    .dataframe tbody tr th {\n",
       "        vertical-align: top;\n",
       "    }\n",
       "\n",
       "    .dataframe thead th {\n",
       "        text-align: right;\n",
       "    }\n",
       "</style>\n",
       "<table border=\"1\" class=\"dataframe\">\n",
       "  <thead>\n",
       "    <tr style=\"text-align: right;\">\n",
       "      <th></th>\n",
       "      <th>msno</th>\n",
       "      <th>city</th>\n",
       "      <th>bd</th>\n",
       "      <th>gender</th>\n",
       "      <th>registered_via</th>\n",
       "      <th>registration_init_time</th>\n",
       "    </tr>\n",
       "  </thead>\n",
       "  <tbody>\n",
       "    <tr>\n",
       "      <th>0</th>\n",
       "      <td>Rb9UwLQTrxzBVwCB6+bCcSQWZ9JiNLC9dXtM1oEsZA8=</td>\n",
       "      <td>1</td>\n",
       "      <td>0</td>\n",
       "      <td>NaN</td>\n",
       "      <td>11</td>\n",
       "      <td>20110911</td>\n",
       "    </tr>\n",
       "    <tr>\n",
       "      <th>1</th>\n",
       "      <td>+tJonkh+O1CA796Fm5X60UMOtB6POHAwPjbTRVl/EuU=</td>\n",
       "      <td>1</td>\n",
       "      <td>0</td>\n",
       "      <td>NaN</td>\n",
       "      <td>7</td>\n",
       "      <td>20110914</td>\n",
       "    </tr>\n",
       "    <tr>\n",
       "      <th>2</th>\n",
       "      <td>cV358ssn7a0f7jZOwGNWS07wCKVqxyiImJUX6xcIwKw=</td>\n",
       "      <td>1</td>\n",
       "      <td>0</td>\n",
       "      <td>NaN</td>\n",
       "      <td>11</td>\n",
       "      <td>20110915</td>\n",
       "    </tr>\n",
       "    <tr>\n",
       "      <th>3</th>\n",
       "      <td>9bzDeJP6sQodK73K5CBlJ6fgIQzPeLnRl0p5B77XP+g=</td>\n",
       "      <td>1</td>\n",
       "      <td>0</td>\n",
       "      <td>NaN</td>\n",
       "      <td>11</td>\n",
       "      <td>20110915</td>\n",
       "    </tr>\n",
       "    <tr>\n",
       "      <th>4</th>\n",
       "      <td>WFLY3s7z4EZsieHCt63XrsdtfTEmJ+2PnnKLH5GY4Tk=</td>\n",
       "      <td>6</td>\n",
       "      <td>32</td>\n",
       "      <td>female</td>\n",
       "      <td>9</td>\n",
       "      <td>20110915</td>\n",
       "    </tr>\n",
       "  </tbody>\n",
       "</table>\n",
       "</div>"
      ],
      "text/plain": [
       "                                           msno  city  bd  gender  \\\n",
       "0  Rb9UwLQTrxzBVwCB6+bCcSQWZ9JiNLC9dXtM1oEsZA8=     1   0     NaN   \n",
       "1  +tJonkh+O1CA796Fm5X60UMOtB6POHAwPjbTRVl/EuU=     1   0     NaN   \n",
       "2  cV358ssn7a0f7jZOwGNWS07wCKVqxyiImJUX6xcIwKw=     1   0     NaN   \n",
       "3  9bzDeJP6sQodK73K5CBlJ6fgIQzPeLnRl0p5B77XP+g=     1   0     NaN   \n",
       "4  WFLY3s7z4EZsieHCt63XrsdtfTEmJ+2PnnKLH5GY4Tk=     6  32  female   \n",
       "\n",
       "   registered_via  registration_init_time  \n",
       "0              11                20110911  \n",
       "1               7                20110914  \n",
       "2              11                20110915  \n",
       "3              11                20110915  \n",
       "4               9                20110915  "
      ]
     },
     "execution_count": 27,
     "metadata": {},
     "output_type": "execute_result"
    }
   ],
   "source": [
    "membersdf.head()\n"
   ]
  },
  {
   "cell_type": "code",
   "execution_count": 29,
   "metadata": {},
   "outputs": [
    {
     "name": "stdout",
     "output_type": "stream",
     "text": [
      "<class 'pandas.core.frame.DataFrame'>\n",
      "RangeIndex: 6769473 entries, 0 to 6769472\n",
      "Data columns (total 6 columns):\n",
      " #   Column                  Dtype \n",
      "---  ------                  ----- \n",
      " 0   msno                    object\n",
      " 1   city                    int64 \n",
      " 2   bd                      int64 \n",
      " 3   gender                  object\n",
      " 4   registered_via          int64 \n",
      " 5   registration_init_time  int64 \n",
      "dtypes: int64(4), object(2)\n",
      "memory usage: 309.9+ MB\n"
     ]
    }
   ],
   "source": [
    "membersdf.info()"
   ]
  },
  {
   "cell_type": "markdown",
   "metadata": {},
   "source": [
    "Members data set provides users information for 6769473 users\n",
    "it has ample data when compared to what we have in train dataset. Lets filter down the data set to only those in the train data. "
   ]
  },
  {
   "cell_type": "code",
   "execution_count": 33,
   "metadata": {},
   "outputs": [
    {
     "name": "stdout",
     "output_type": "stream",
     "text": [
      "<class 'pandas.core.frame.DataFrame'>\n",
      "RangeIndex: 123815 entries, 0 to 123814\n",
      "Data columns (total 6 columns):\n",
      " #   Column                  Non-Null Count   Dtype \n",
      "---  ------                  --------------   ----- \n",
      " 0   msno                    123815 non-null  object\n",
      " 1   city                    123815 non-null  int64 \n",
      " 2   bd                      123815 non-null  int64 \n",
      " 3   gender                  63206 non-null   object\n",
      " 4   registered_via          123815 non-null  int64 \n",
      " 5   registration_init_time  123815 non-null  int64 \n",
      "dtypes: int64(4), object(2)\n",
      "memory usage: 5.7+ MB\n"
     ]
    },
    {
     "data": {
      "text/html": [
       "<div>\n",
       "<style scoped>\n",
       "    .dataframe tbody tr th:only-of-type {\n",
       "        vertical-align: middle;\n",
       "    }\n",
       "\n",
       "    .dataframe tbody tr th {\n",
       "        vertical-align: top;\n",
       "    }\n",
       "\n",
       "    .dataframe thead th {\n",
       "        text-align: right;\n",
       "    }\n",
       "</style>\n",
       "<table border=\"1\" class=\"dataframe\">\n",
       "  <thead>\n",
       "    <tr style=\"text-align: right;\">\n",
       "      <th></th>\n",
       "      <th>msno</th>\n",
       "      <th>city</th>\n",
       "      <th>bd</th>\n",
       "      <th>gender</th>\n",
       "      <th>registered_via</th>\n",
       "      <th>registration_init_time</th>\n",
       "    </tr>\n",
       "  </thead>\n",
       "  <tbody>\n",
       "    <tr>\n",
       "      <th>0</th>\n",
       "      <td>WH5Jq4mgtfUFXh2yz+HrcTXKS4Oess4k4W3qKolAeb0=</td>\n",
       "      <td>5</td>\n",
       "      <td>34</td>\n",
       "      <td>male</td>\n",
       "      <td>9</td>\n",
       "      <td>20110916</td>\n",
       "    </tr>\n",
       "    <tr>\n",
       "      <th>1</th>\n",
       "      <td>Z6WIOK9vXy+e2XDBiioNAxuZ0ScXSU/Ebq4tUwqVSrE=</td>\n",
       "      <td>22</td>\n",
       "      <td>38</td>\n",
       "      <td>female</td>\n",
       "      <td>9</td>\n",
       "      <td>20110929</td>\n",
       "    </tr>\n",
       "    <tr>\n",
       "      <th>2</th>\n",
       "      <td>i4kmzPli+nl4XagzznO+oCcPeXfjcLSKIn8xE9oGU5E=</td>\n",
       "      <td>4</td>\n",
       "      <td>58</td>\n",
       "      <td>male</td>\n",
       "      <td>9</td>\n",
       "      <td>20111006</td>\n",
       "    </tr>\n",
       "    <tr>\n",
       "      <th>3</th>\n",
       "      <td>7oCpSPj4+SdVJLfDRc+tN5HLp2R1DRozaWsTpbLTz5g=</td>\n",
       "      <td>15</td>\n",
       "      <td>21</td>\n",
       "      <td>female</td>\n",
       "      <td>3</td>\n",
       "      <td>20141020</td>\n",
       "    </tr>\n",
       "    <tr>\n",
       "      <th>4</th>\n",
       "      <td>bPHi7VPQkMtdeIqJAktzYSITpRSt9F9mCdhddPTSlOY=</td>\n",
       "      <td>15</td>\n",
       "      <td>17</td>\n",
       "      <td>female</td>\n",
       "      <td>3</td>\n",
       "      <td>20141021</td>\n",
       "    </tr>\n",
       "  </tbody>\n",
       "</table>\n",
       "</div>"
      ],
      "text/plain": [
       "                                           msno  city  bd  gender  \\\n",
       "0  WH5Jq4mgtfUFXh2yz+HrcTXKS4Oess4k4W3qKolAeb0=     5  34    male   \n",
       "1  Z6WIOK9vXy+e2XDBiioNAxuZ0ScXSU/Ebq4tUwqVSrE=    22  38  female   \n",
       "2  i4kmzPli+nl4XagzznO+oCcPeXfjcLSKIn8xE9oGU5E=     4  58    male   \n",
       "3  7oCpSPj4+SdVJLfDRc+tN5HLp2R1DRozaWsTpbLTz5g=    15  21  female   \n",
       "4  bPHi7VPQkMtdeIqJAktzYSITpRSt9F9mCdhddPTSlOY=    15  17  female   \n",
       "\n",
       "   registered_via  registration_init_time  \n",
       "0               9                20110916  \n",
       "1               9                20110929  \n",
       "2               9                20111006  \n",
       "3               3                20141020  \n",
       "4               3                20141021  "
      ]
     },
     "execution_count": 33,
     "metadata": {},
     "output_type": "execute_result"
    }
   ],
   "source": [
    "membersdf = membersdf[membersdf.msno.isin(traindf.msno.tolist())]\n",
    "membersdf.reset_index(drop=True, inplace=True)\n",
    "membersdf.info()\n",
    "membersdf.head()"
   ]
  },
  {
   "cell_type": "markdown",
   "metadata": {},
   "source": [
    "Mmembers data set has 123815 users data. Another observations are we do not have the all the members data compared to trainset, and missing data in gender column.\n",
    "\n",
    "There are few columns which are in wrong data type and correct data type should be\n",
    "\n",
    "1. registration_init_time - Datetime object\n",
    "2. city - Categorical\n",
    "3. gender - Categorical\n",
    "4. registration_via - Categorical"
   ]
  },
  {
   "cell_type": "code",
   "execution_count": 35,
   "metadata": {},
   "outputs": [],
   "source": [
    "membersdf['registration_init_time'] = membersdf.registration_init_time.apply(lambda x: datetime.strptime(str(x), \"%Y%m%d\").date() if pd.notnull(x) else None)\n",
    "membersdf['city'] = membersdf.city.astype('category')\n",
    "membersdf['gender'] = membersdf.gender.astype('category')\n",
    "membersdf['registered_via'] = membersdf.registered_via.astype('category')"
   ]
  },
  {
   "cell_type": "code",
   "execution_count": 36,
   "metadata": {},
   "outputs": [
    {
     "name": "stdout",
     "output_type": "stream",
     "text": [
      "<class 'pandas.core.frame.DataFrame'>\n",
      "RangeIndex: 123815 entries, 0 to 123814\n",
      "Data columns (total 6 columns):\n",
      " #   Column                  Non-Null Count   Dtype   \n",
      "---  ------                  --------------   -----   \n",
      " 0   msno                    123815 non-null  object  \n",
      " 1   city                    123815 non-null  category\n",
      " 2   bd                      123815 non-null  int64   \n",
      " 3   gender                  63206 non-null   category\n",
      " 4   registered_via          123815 non-null  category\n",
      " 5   registration_init_time  123815 non-null  object  \n",
      "dtypes: category(3), int64(1), object(2)\n",
      "memory usage: 3.2+ MB\n"
     ]
    }
   ],
   "source": [
    "membersdf.info()"
   ]
  },
  {
   "cell_type": "code",
   "execution_count": 39,
   "metadata": {},
   "outputs": [
    {
     "name": "stdout",
     "output_type": "stream",
     "text": [
      "count    123815.000000\n",
      "mean         14.831555\n",
      "std          18.249042\n",
      "min         -48.000000\n",
      "25%           0.000000\n",
      "50%          17.000000\n",
      "75%          27.000000\n",
      "max        1052.000000\n",
      "Name: bd, dtype: float64\n"
     ]
    },
    {
     "data": {
      "image/png": "[encoded data removed]",
      "text/plain": [
       "<Figure size 432x288 with 1 Axes>"
      ]
     },
     "metadata": {
      "needs_background": "light"
     },
     "output_type": "display_data"
    }
   ],
   "source": [
    "print(membersdf.bd.describe())\n",
    "membersdf.boxplot(column='bd')\n",
    "plt.show()"
   ]
  },
  {
   "cell_type": "markdown",
   "metadata": {},
   "source": [
    "Based on the boxplot above, the data contains users who are in age range from -48 to 1052 which does not make any sense. \n",
    "Lets make the age range from 1 to 100 to make sure not to skew the data and fill missing data with 0"
   ]
  },
  {
   "cell_type": "code",
   "execution_count": 40,
   "metadata": {},
   "outputs": [],
   "source": [
    "membersdf['bd'] = membersdf.bd.apply(lambda x: int(x) if x in range(1,101) else None)"
   ]
  },
  {
   "cell_type": "code",
   "execution_count": 42,
   "metadata": {},
   "outputs": [
    {
     "data": {
      "text/html": [
       "<div>\n",
       "<style scoped>\n",
       "    .dataframe tbody tr th:only-of-type {\n",
       "        vertical-align: middle;\n",
       "    }\n",
       "\n",
       "    .dataframe tbody tr th {\n",
       "        vertical-align: top;\n",
       "    }\n",
       "\n",
       "    .dataframe thead th {\n",
       "        text-align: right;\n",
       "    }\n",
       "</style>\n",
       "<table border=\"1\" class=\"dataframe\">\n",
       "  <thead>\n",
       "    <tr style=\"text-align: right;\">\n",
       "      <th></th>\n",
       "      <th>bd</th>\n",
       "    </tr>\n",
       "  </thead>\n",
       "  <tbody>\n",
       "    <tr>\n",
       "      <th>count</th>\n",
       "      <td>63188.000000</td>\n",
       "    </tr>\n",
       "    <tr>\n",
       "      <th>mean</th>\n",
       "      <td>28.764370</td>\n",
       "    </tr>\n",
       "    <tr>\n",
       "      <th>std</th>\n",
       "      <td>8.851143</td>\n",
       "    </tr>\n",
       "    <tr>\n",
       "      <th>min</th>\n",
       "      <td>1.000000</td>\n",
       "    </tr>\n",
       "    <tr>\n",
       "      <th>25%</th>\n",
       "      <td>22.000000</td>\n",
       "    </tr>\n",
       "    <tr>\n",
       "      <th>50%</th>\n",
       "      <td>27.000000</td>\n",
       "    </tr>\n",
       "    <tr>\n",
       "      <th>75%</th>\n",
       "      <td>33.000000</td>\n",
       "    </tr>\n",
       "    <tr>\n",
       "      <th>max</th>\n",
       "      <td>100.000000</td>\n",
       "    </tr>\n",
       "  </tbody>\n",
       "</table>\n",
       "</div>"
      ],
      "text/plain": [
       "                 bd\n",
       "count  63188.000000\n",
       "mean      28.764370\n",
       "std        8.851143\n",
       "min        1.000000\n",
       "25%       22.000000\n",
       "50%       27.000000\n",
       "75%       33.000000\n",
       "max      100.000000"
      ]
     },
     "execution_count": 42,
     "metadata": {},
     "output_type": "execute_result"
    }
   ],
   "source": [
    "membersdf.describe()"
   ]
  },
  {
   "cell_type": "code",
   "execution_count": 45,
   "metadata": {},
   "outputs": [],
   "source": [
    "membersdf.to_csv('members_modified.csv',index=False)"
   ]
  },
  {
   "cell_type": "markdown",
   "metadata": {},
   "source": [
    "# Transaction data"
   ]
  },
  {
   "cell_type": "markdown",
   "metadata": {},
   "source": [
    "Transaction data set contains\n",
    "\n",
    ".msno: user id\n",
    ".payment_method_id: payment method\n",
    ".payment_plan_days: length of membership plan in days\n",
    ".plan_list_price: in New Taiwan Dollar (NTD)\n",
    ".actual_amount_paid: in New Taiwan Dollar (NTD)\n",
    ".is_auto_renew\n",
    ".transaction_date: format %Y%m%d\n",
    ".membership_expire_date: format %Y%m%d\n",
    ".is_cancel: whether or not the user canceled the membership in this transaction"
   ]
  },
  {
   "cell_type": "code",
   "execution_count": 46,
   "metadata": {},
   "outputs": [
    {
     "ename": "NameError",
     "evalue": "name 'transactiondf' is not defined",
     "output_type": "error",
     "traceback": [
      "\u001b[1;31m---------------------------------------------------------------------------\u001b[0m",
      "\u001b[1;31mNameError\u001b[0m                                 Traceback (most recent call last)",
      "\u001b[1;32m<ipython-input-46-64205e6118bd>\u001b[0m in \u001b[0;36m<module>\u001b[1;34m\u001b[0m\n\u001b[0;32m      1\u001b[0m \u001b[0mtransactionsdf\u001b[0m \u001b[1;33m=\u001b[0m \u001b[0mpd\u001b[0m\u001b[1;33m.\u001b[0m\u001b[0mread_csv\u001b[0m\u001b[1;33m(\u001b[0m\u001b[1;34m'transactions.csv'\u001b[0m\u001b[1;33m)\u001b[0m\u001b[1;33m\u001b[0m\u001b[1;33m\u001b[0m\u001b[0m\n\u001b[1;32m----> 2\u001b[1;33m \u001b[0mtransactiondf\u001b[0m\u001b[1;33m.\u001b[0m\u001b[0mhead\u001b[0m\u001b[1;33m(\u001b[0m\u001b[1;33m)\u001b[0m\u001b[1;33m\u001b[0m\u001b[1;33m\u001b[0m\u001b[0m\n\u001b[0m",
      "\u001b[1;31mNameError\u001b[0m: name 'transactiondf' is not defined"
     ]
    }
   ],
   "source": [
    "transactionsdf = pd.read_csv('transactions.csv')\n",
    " "
   ]
  },
  {
   "cell_type": "code",
   "execution_count": 47,
   "metadata": {},
   "outputs": [
    {
     "data": {
      "text/html": [
       "<div>\n",
       "<style scoped>\n",
       "    .dataframe tbody tr th:only-of-type {\n",
       "        vertical-align: middle;\n",
       "    }\n",
       "\n",
       "    .dataframe tbody tr th {\n",
       "        vertical-align: top;\n",
       "    }\n",
       "\n",
       "    .dataframe thead th {\n",
       "        text-align: right;\n",
       "    }\n",
       "</style>\n",
       "<table border=\"1\" class=\"dataframe\">\n",
       "  <thead>\n",
       "    <tr style=\"text-align: right;\">\n",
       "      <th></th>\n",
       "      <th>msno</th>\n",
       "      <th>payment_method_id</th>\n",
       "      <th>payment_plan_days</th>\n",
       "      <th>plan_list_price</th>\n",
       "      <th>actual_amount_paid</th>\n",
       "      <th>is_auto_renew</th>\n",
       "      <th>transaction_date</th>\n",
       "      <th>membership_expire_date</th>\n",
       "      <th>is_cancel</th>\n",
       "    </tr>\n",
       "  </thead>\n",
       "  <tbody>\n",
       "    <tr>\n",
       "      <th>0</th>\n",
       "      <td>YyO+tlZtAXYXoZhNr3Vg3+dfVQvrBVGO8j1mfqe4ZHc=</td>\n",
       "      <td>41</td>\n",
       "      <td>30</td>\n",
       "      <td>129</td>\n",
       "      <td>129</td>\n",
       "      <td>1</td>\n",
       "      <td>20150930</td>\n",
       "      <td>20151101</td>\n",
       "      <td>0</td>\n",
       "    </tr>\n",
       "    <tr>\n",
       "      <th>1</th>\n",
       "      <td>AZtu6Wl0gPojrEQYB8Q3vBSmE2wnZ3hi1FbK1rQQ0A4=</td>\n",
       "      <td>41</td>\n",
       "      <td>30</td>\n",
       "      <td>149</td>\n",
       "      <td>149</td>\n",
       "      <td>1</td>\n",
       "      <td>20150930</td>\n",
       "      <td>20151031</td>\n",
       "      <td>0</td>\n",
       "    </tr>\n",
       "    <tr>\n",
       "      <th>2</th>\n",
       "      <td>UkDFI97Qb6+s2LWcijVVv4rMAsORbVDT2wNXF0aVbns=</td>\n",
       "      <td>41</td>\n",
       "      <td>30</td>\n",
       "      <td>129</td>\n",
       "      <td>129</td>\n",
       "      <td>1</td>\n",
       "      <td>20150930</td>\n",
       "      <td>20160427</td>\n",
       "      <td>0</td>\n",
       "    </tr>\n",
       "    <tr>\n",
       "      <th>3</th>\n",
       "      <td>M1C56ijxozNaGD0t2h68PnH2xtx5iO5iR2MVYQB6nBI=</td>\n",
       "      <td>39</td>\n",
       "      <td>30</td>\n",
       "      <td>149</td>\n",
       "      <td>149</td>\n",
       "      <td>1</td>\n",
       "      <td>20150930</td>\n",
       "      <td>20151128</td>\n",
       "      <td>0</td>\n",
       "    </tr>\n",
       "    <tr>\n",
       "      <th>4</th>\n",
       "      <td>yvj6zyBUaqdbUQSrKsrZ+xNDVM62knauSZJzakS9OW4=</td>\n",
       "      <td>39</td>\n",
       "      <td>30</td>\n",
       "      <td>149</td>\n",
       "      <td>149</td>\n",
       "      <td>1</td>\n",
       "      <td>20150930</td>\n",
       "      <td>20151121</td>\n",
       "      <td>0</td>\n",
       "    </tr>\n",
       "  </tbody>\n",
       "</table>\n",
       "</div>"
      ],
      "text/plain": [
       "                                           msno  payment_method_id  \\\n",
       "0  YyO+tlZtAXYXoZhNr3Vg3+dfVQvrBVGO8j1mfqe4ZHc=                 41   \n",
       "1  AZtu6Wl0gPojrEQYB8Q3vBSmE2wnZ3hi1FbK1rQQ0A4=                 41   \n",
       "2  UkDFI97Qb6+s2LWcijVVv4rMAsORbVDT2wNXF0aVbns=                 41   \n",
       "3  M1C56ijxozNaGD0t2h68PnH2xtx5iO5iR2MVYQB6nBI=                 39   \n",
       "4  yvj6zyBUaqdbUQSrKsrZ+xNDVM62knauSZJzakS9OW4=                 39   \n",
       "\n",
       "   payment_plan_days  plan_list_price  actual_amount_paid  is_auto_renew  \\\n",
       "0                 30              129                 129              1   \n",
       "1                 30              149                 149              1   \n",
       "2                 30              129                 129              1   \n",
       "3                 30              149                 149              1   \n",
       "4                 30              149                 149              1   \n",
       "\n",
       "   transaction_date  membership_expire_date  is_cancel  \n",
       "0          20150930                20151101          0  \n",
       "1          20150930                20151031          0  \n",
       "2          20150930                20160427          0  \n",
       "3          20150930                20151128          0  \n",
       "4          20150930                20151121          0  "
      ]
     },
     "execution_count": 47,
     "metadata": {},
     "output_type": "execute_result"
    }
   ],
   "source": [
    "transactionsdf.head()"
   ]
  },
  {
   "cell_type": "code",
   "execution_count": 48,
   "metadata": {},
   "outputs": [
    {
     "data": {
      "text/html": [
       "<div>\n",
       "<style scoped>\n",
       "    .dataframe tbody tr th:only-of-type {\n",
       "        vertical-align: middle;\n",
       "    }\n",
       "\n",
       "    .dataframe tbody tr th {\n",
       "        vertical-align: top;\n",
       "    }\n",
       "\n",
       "    .dataframe thead th {\n",
       "        text-align: right;\n",
       "    }\n",
       "</style>\n",
       "<table border=\"1\" class=\"dataframe\">\n",
       "  <thead>\n",
       "    <tr style=\"text-align: right;\">\n",
       "      <th></th>\n",
       "      <th>payment_method_id</th>\n",
       "      <th>payment_plan_days</th>\n",
       "      <th>plan_list_price</th>\n",
       "      <th>actual_amount_paid</th>\n",
       "      <th>is_auto_renew</th>\n",
       "      <th>transaction_date</th>\n",
       "      <th>membership_expire_date</th>\n",
       "      <th>is_cancel</th>\n",
       "    </tr>\n",
       "  </thead>\n",
       "  <tbody>\n",
       "    <tr>\n",
       "      <th>count</th>\n",
       "      <td>2.154775e+07</td>\n",
       "      <td>2.154775e+07</td>\n",
       "      <td>2.154775e+07</td>\n",
       "      <td>2.154775e+07</td>\n",
       "      <td>2.154775e+07</td>\n",
       "      <td>2.154775e+07</td>\n",
       "      <td>2.154775e+07</td>\n",
       "      <td>2.154775e+07</td>\n",
       "    </tr>\n",
       "    <tr>\n",
       "      <th>mean</th>\n",
       "      <td>3.893310e+01</td>\n",
       "      <td>3.133906e+01</td>\n",
       "      <td>1.398850e+02</td>\n",
       "      <td>1.419873e+02</td>\n",
       "      <td>8.519661e-01</td>\n",
       "      <td>2.015760e+07</td>\n",
       "      <td>2.015862e+07</td>\n",
       "      <td>3.976523e-02</td>\n",
       "    </tr>\n",
       "    <tr>\n",
       "      <th>std</th>\n",
       "      <td>3.507936e+00</td>\n",
       "      <td>3.035649e+01</td>\n",
       "      <td>1.309647e+02</td>\n",
       "      <td>1.324824e+02</td>\n",
       "      <td>3.551336e-01</td>\n",
       "      <td>6.155979e+03</td>\n",
       "      <td>7.755753e+03</td>\n",
       "      <td>1.954072e-01</td>\n",
       "    </tr>\n",
       "    <tr>\n",
       "      <th>min</th>\n",
       "      <td>1.000000e+00</td>\n",
       "      <td>0.000000e+00</td>\n",
       "      <td>0.000000e+00</td>\n",
       "      <td>0.000000e+00</td>\n",
       "      <td>0.000000e+00</td>\n",
       "      <td>2.015010e+07</td>\n",
       "      <td>1.970010e+07</td>\n",
       "      <td>0.000000e+00</td>\n",
       "    </tr>\n",
       "    <tr>\n",
       "      <th>25%</th>\n",
       "      <td>3.800000e+01</td>\n",
       "      <td>3.000000e+01</td>\n",
       "      <td>9.900000e+01</td>\n",
       "      <td>9.900000e+01</td>\n",
       "      <td>1.000000e+00</td>\n",
       "      <td>2.015091e+07</td>\n",
       "      <td>2.015102e+07</td>\n",
       "      <td>0.000000e+00</td>\n",
       "    </tr>\n",
       "    <tr>\n",
       "      <th>50%</th>\n",
       "      <td>4.100000e+01</td>\n",
       "      <td>3.000000e+01</td>\n",
       "      <td>1.490000e+02</td>\n",
       "      <td>1.490000e+02</td>\n",
       "      <td>1.000000e+00</td>\n",
       "      <td>2.016032e+07</td>\n",
       "      <td>2.016043e+07</td>\n",
       "      <td>0.000000e+00</td>\n",
       "    </tr>\n",
       "    <tr>\n",
       "      <th>75%</th>\n",
       "      <td>4.100000e+01</td>\n",
       "      <td>3.000000e+01</td>\n",
       "      <td>1.490000e+02</td>\n",
       "      <td>1.490000e+02</td>\n",
       "      <td>1.000000e+00</td>\n",
       "      <td>2.016092e+07</td>\n",
       "      <td>2.016103e+07</td>\n",
       "      <td>0.000000e+00</td>\n",
       "    </tr>\n",
       "    <tr>\n",
       "      <th>max</th>\n",
       "      <td>4.100000e+01</td>\n",
       "      <td>4.500000e+02</td>\n",
       "      <td>2.000000e+03</td>\n",
       "      <td>2.000000e+03</td>\n",
       "      <td>1.000000e+00</td>\n",
       "      <td>2.017023e+07</td>\n",
       "      <td>2.017033e+07</td>\n",
       "      <td>1.000000e+00</td>\n",
       "    </tr>\n",
       "  </tbody>\n",
       "</table>\n",
       "</div>"
      ],
      "text/plain": [
       "       payment_method_id  payment_plan_days  plan_list_price  \\\n",
       "count       2.154775e+07       2.154775e+07     2.154775e+07   \n",
       "mean        3.893310e+01       3.133906e+01     1.398850e+02   \n",
       "std         3.507936e+00       3.035649e+01     1.309647e+02   \n",
       "min         1.000000e+00       0.000000e+00     0.000000e+00   \n",
       "25%         3.800000e+01       3.000000e+01     9.900000e+01   \n",
       "50%         4.100000e+01       3.000000e+01     1.490000e+02   \n",
       "75%         4.100000e+01       3.000000e+01     1.490000e+02   \n",
       "max         4.100000e+01       4.500000e+02     2.000000e+03   \n",
       "\n",
       "       actual_amount_paid  is_auto_renew  transaction_date  \\\n",
       "count        2.154775e+07   2.154775e+07      2.154775e+07   \n",
       "mean         1.419873e+02   8.519661e-01      2.015760e+07   \n",
       "std          1.324824e+02   3.551336e-01      6.155979e+03   \n",
       "min          0.000000e+00   0.000000e+00      2.015010e+07   \n",
       "25%          9.900000e+01   1.000000e+00      2.015091e+07   \n",
       "50%          1.490000e+02   1.000000e+00      2.016032e+07   \n",
       "75%          1.490000e+02   1.000000e+00      2.016092e+07   \n",
       "max          2.000000e+03   1.000000e+00      2.017023e+07   \n",
       "\n",
       "       membership_expire_date     is_cancel  \n",
       "count            2.154775e+07  2.154775e+07  \n",
       "mean             2.015862e+07  3.976523e-02  \n",
       "std              7.755753e+03  1.954072e-01  \n",
       "min              1.970010e+07  0.000000e+00  \n",
       "25%              2.015102e+07  0.000000e+00  \n",
       "50%              2.016043e+07  0.000000e+00  \n",
       "75%              2.016103e+07  0.000000e+00  \n",
       "max              2.017033e+07  1.000000e+00  "
      ]
     },
     "execution_count": 48,
     "metadata": {},
     "output_type": "execute_result"
    }
   ],
   "source": [
    "transactionsdf.describe()"
   ]
  },
  {
   "cell_type": "code",
   "execution_count": 49,
   "metadata": {},
   "outputs": [
    {
     "name": "stdout",
     "output_type": "stream",
     "text": [
      "<class 'pandas.core.frame.DataFrame'>\n",
      "RangeIndex: 21547746 entries, 0 to 21547745\n",
      "Data columns (total 9 columns):\n",
      " #   Column                  Dtype \n",
      "---  ------                  ----- \n",
      " 0   msno                    object\n",
      " 1   payment_method_id       int64 \n",
      " 2   payment_plan_days       int64 \n",
      " 3   plan_list_price         int64 \n",
      " 4   actual_amount_paid      int64 \n",
      " 5   is_auto_renew           int64 \n",
      " 6   transaction_date        int64 \n",
      " 7   membership_expire_date  int64 \n",
      " 8   is_cancel               int64 \n",
      "dtypes: int64(8), object(1)\n",
      "memory usage: 1.4+ GB\n"
     ]
    }
   ],
   "source": [
    "transactionsdf.info()"
   ]
  },
  {
   "cell_type": "code",
   "execution_count": 50,
   "metadata": {},
   "outputs": [
    {
     "data": {
      "text/plain": [
       "2363626"
      ]
     },
     "execution_count": 50,
     "metadata": {},
     "output_type": "execute_result"
    }
   ],
   "source": [
    "len(set(transactionsdf.msno))"
   ]
  },
  {
   "cell_type": "markdown",
   "metadata": {},
   "source": [
    "Transactions data has 21547746 transactions and it seems that a user can make multiple transactions, but this data set has 2363626 users.\n",
    "Lets extract the data only needs in train data"
   ]
  },
  {
   "cell_type": "code",
   "execution_count": 52,
   "metadata": {},
   "outputs": [
    {
     "name": "stdout",
     "output_type": "stream",
     "text": [
      "<class 'pandas.core.frame.DataFrame'>\n",
      "RangeIndex: 1909677 entries, 0 to 1909676\n",
      "Data columns (total 9 columns):\n",
      " #   Column                  Dtype \n",
      "---  ------                  ----- \n",
      " 0   msno                    object\n",
      " 1   payment_method_id       int64 \n",
      " 2   payment_plan_days       int64 \n",
      " 3   plan_list_price         int64 \n",
      " 4   actual_amount_paid      int64 \n",
      " 5   is_auto_renew           int64 \n",
      " 6   transaction_date        int64 \n",
      " 7   membership_expire_date  int64 \n",
      " 8   is_cancel               int64 \n",
      "dtypes: int64(8), object(1)\n",
      "memory usage: 131.1+ MB\n"
     ]
    }
   ],
   "source": [
    "transactionsdf = transactionsdf[transactionsdf.msno.isin(traindf.msno.tolist())]\n",
    "transactionsdf.reset_index(drop=True, inplace=True)\n",
    "transactionsdf.info()"
   ]
  },
  {
   "cell_type": "code",
   "execution_count": 54,
   "metadata": {},
   "outputs": [
    {
     "data": {
      "text/plain": [
       "138471"
      ]
     },
     "execution_count": 54,
     "metadata": {},
     "output_type": "execute_result"
    }
   ],
   "source": [
    "len(set(transactionsdf.msno))"
   ]
  },
  {
   "cell_type": "markdown",
   "metadata": {},
   "source": [
    "There are few columns which are in wrong data type and should be of below data type\n",
    ".payment_method_id - Categorical\n",
    ".is_auto_renew - Categrorical\n",
    ".transaction_date - Datetime object\n",
    ".member_expire_date - Datetime object\n",
    ".is_cancel - Categorical"
   ]
  },
  {
   "cell_type": "code",
   "execution_count": 55,
   "metadata": {},
   "outputs": [],
   "source": [
    "\n",
    "from datetime import datetime\n",
    "cat = ['payment_method_id', 'is_auto_renew', 'is_cancel']\n",
    "for col in cat:\n",
    "    transactionsdf[col] = transactionsdf[col].astype('category')\n",
    "\n",
    "transactionsdf['transaction_date'] = transactionsdf['transaction_date'].apply(lambda x: datetime.strptime(str(x), \"%Y%m%d\").date() if pd.notnull(x) else None)\n",
    "transactionsdf['membership_expire_date'] = transactionsdf['membership_expire_date'].apply(lambda x: datetime.strptime(str(x), \"%Y%m%d\").date() if pd.notnull(x) else None)"
   ]
  },
  {
   "cell_type": "code",
   "execution_count": 56,
   "metadata": {},
   "outputs": [
    {
     "data": {
      "text/html": [
       "<div>\n",
       "<style scoped>\n",
       "    .dataframe tbody tr th:only-of-type {\n",
       "        vertical-align: middle;\n",
       "    }\n",
       "\n",
       "    .dataframe tbody tr th {\n",
       "        vertical-align: top;\n",
       "    }\n",
       "\n",
       "    .dataframe thead th {\n",
       "        text-align: right;\n",
       "    }\n",
       "</style>\n",
       "<table border=\"1\" class=\"dataframe\">\n",
       "  <thead>\n",
       "    <tr style=\"text-align: right;\">\n",
       "      <th></th>\n",
       "      <th>payment_plan_days</th>\n",
       "      <th>plan_list_price</th>\n",
       "      <th>actual_amount_paid</th>\n",
       "    </tr>\n",
       "  </thead>\n",
       "  <tbody>\n",
       "    <tr>\n",
       "      <th>count</th>\n",
       "      <td>1.909677e+06</td>\n",
       "      <td>1.909677e+06</td>\n",
       "      <td>1.909677e+06</td>\n",
       "    </tr>\n",
       "    <tr>\n",
       "      <th>mean</th>\n",
       "      <td>3.147768e+01</td>\n",
       "      <td>1.407167e+02</td>\n",
       "      <td>1.445365e+02</td>\n",
       "    </tr>\n",
       "    <tr>\n",
       "      <th>std</th>\n",
       "      <td>2.691498e+01</td>\n",
       "      <td>1.157037e+02</td>\n",
       "      <td>1.138081e+02</td>\n",
       "    </tr>\n",
       "    <tr>\n",
       "      <th>min</th>\n",
       "      <td>0.000000e+00</td>\n",
       "      <td>0.000000e+00</td>\n",
       "      <td>0.000000e+00</td>\n",
       "    </tr>\n",
       "    <tr>\n",
       "      <th>25%</th>\n",
       "      <td>3.000000e+01</td>\n",
       "      <td>9.900000e+01</td>\n",
       "      <td>9.900000e+01</td>\n",
       "    </tr>\n",
       "    <tr>\n",
       "      <th>50%</th>\n",
       "      <td>3.000000e+01</td>\n",
       "      <td>1.490000e+02</td>\n",
       "      <td>1.490000e+02</td>\n",
       "    </tr>\n",
       "    <tr>\n",
       "      <th>75%</th>\n",
       "      <td>3.000000e+01</td>\n",
       "      <td>1.490000e+02</td>\n",
       "      <td>1.490000e+02</td>\n",
       "    </tr>\n",
       "    <tr>\n",
       "      <th>max</th>\n",
       "      <td>4.500000e+02</td>\n",
       "      <td>2.000000e+03</td>\n",
       "      <td>2.000000e+03</td>\n",
       "    </tr>\n",
       "  </tbody>\n",
       "</table>\n",
       "</div>"
      ],
      "text/plain": [
       "       payment_plan_days  plan_list_price  actual_amount_paid\n",
       "count       1.909677e+06     1.909677e+06        1.909677e+06\n",
       "mean        3.147768e+01     1.407167e+02        1.445365e+02\n",
       "std         2.691498e+01     1.157037e+02        1.138081e+02\n",
       "min         0.000000e+00     0.000000e+00        0.000000e+00\n",
       "25%         3.000000e+01     9.900000e+01        9.900000e+01\n",
       "50%         3.000000e+01     1.490000e+02        1.490000e+02\n",
       "75%         3.000000e+01     1.490000e+02        1.490000e+02\n",
       "max         4.500000e+02     2.000000e+03        2.000000e+03"
      ]
     },
     "execution_count": 56,
     "metadata": {},
     "output_type": "execute_result"
    }
   ],
   "source": [
    "transactionsdf.describe()"
   ]
  },
  {
   "cell_type": "markdown",
   "metadata": {},
   "source": [
    "Looks like there is no missing data but minimum value for all 3 columns are 0, Lets investigate further"
   ]
  },
  {
   "cell_type": "code",
   "execution_count": 57,
   "metadata": {},
   "outputs": [
    {
     "data": {
      "text/html": [
       "<div>\n",
       "<style scoped>\n",
       "    .dataframe tbody tr th:only-of-type {\n",
       "        vertical-align: middle;\n",
       "    }\n",
       "\n",
       "    .dataframe tbody tr th {\n",
       "        vertical-align: top;\n",
       "    }\n",
       "\n",
       "    .dataframe thead th {\n",
       "        text-align: right;\n",
       "    }\n",
       "</style>\n",
       "<table border=\"1\" class=\"dataframe\">\n",
       "  <thead>\n",
       "    <tr style=\"text-align: right;\">\n",
       "      <th></th>\n",
       "      <th>msno</th>\n",
       "      <th>payment_method_id</th>\n",
       "      <th>payment_plan_days</th>\n",
       "      <th>plan_list_price</th>\n",
       "      <th>actual_amount_paid</th>\n",
       "      <th>is_auto_renew</th>\n",
       "      <th>transaction_date</th>\n",
       "      <th>membership_expire_date</th>\n",
       "      <th>is_cancel</th>\n",
       "    </tr>\n",
       "  </thead>\n",
       "  <tbody>\n",
       "    <tr>\n",
       "      <th>244</th>\n",
       "      <td>+PDRqxCUcwjf0pnshEarm4OLSiIwCnleg8CGDYQRSLk=</td>\n",
       "      <td>34</td>\n",
       "      <td>0</td>\n",
       "      <td>0</td>\n",
       "      <td>149</td>\n",
       "      <td>1</td>\n",
       "      <td>2015-08-31</td>\n",
       "      <td>2015-09-30</td>\n",
       "      <td>0</td>\n",
       "    </tr>\n",
       "    <tr>\n",
       "      <th>245</th>\n",
       "      <td>FvaiCA/DAbGupjQkBTcIXgGH7gSIX5erXWkKU6brrDo=</td>\n",
       "      <td>34</td>\n",
       "      <td>0</td>\n",
       "      <td>0</td>\n",
       "      <td>149</td>\n",
       "      <td>1</td>\n",
       "      <td>2015-08-31</td>\n",
       "      <td>2015-09-30</td>\n",
       "      <td>0</td>\n",
       "    </tr>\n",
       "    <tr>\n",
       "      <th>246</th>\n",
       "      <td>GjgFeNhx91KoyPHvYryrRcMhrQ3Q++LWrKD+OtEd68s=</td>\n",
       "      <td>31</td>\n",
       "      <td>0</td>\n",
       "      <td>0</td>\n",
       "      <td>149</td>\n",
       "      <td>1</td>\n",
       "      <td>2015-08-31</td>\n",
       "      <td>2015-09-30</td>\n",
       "      <td>0</td>\n",
       "    </tr>\n",
       "    <tr>\n",
       "      <th>249</th>\n",
       "      <td>vEi+fKPqQOfxWc5XWIXNrIWGfBlWyM2uz5kNVgALzgg=</td>\n",
       "      <td>33</td>\n",
       "      <td>0</td>\n",
       "      <td>0</td>\n",
       "      <td>149</td>\n",
       "      <td>1</td>\n",
       "      <td>2015-06-30</td>\n",
       "      <td>2015-07-31</td>\n",
       "      <td>0</td>\n",
       "    </tr>\n",
       "    <tr>\n",
       "      <th>255</th>\n",
       "      <td>OhSuMZNvVEA4Wx2/t7sJc08w98GZGJyE+7RNVxd9Or8=</td>\n",
       "      <td>34</td>\n",
       "      <td>0</td>\n",
       "      <td>0</td>\n",
       "      <td>149</td>\n",
       "      <td>1</td>\n",
       "      <td>2015-07-31</td>\n",
       "      <td>2015-08-31</td>\n",
       "      <td>0</td>\n",
       "    </tr>\n",
       "  </tbody>\n",
       "</table>\n",
       "</div>"
      ],
      "text/plain": [
       "                                             msno payment_method_id  \\\n",
       "244  +PDRqxCUcwjf0pnshEarm4OLSiIwCnleg8CGDYQRSLk=                34   \n",
       "245  FvaiCA/DAbGupjQkBTcIXgGH7gSIX5erXWkKU6brrDo=                34   \n",
       "246  GjgFeNhx91KoyPHvYryrRcMhrQ3Q++LWrKD+OtEd68s=                31   \n",
       "249  vEi+fKPqQOfxWc5XWIXNrIWGfBlWyM2uz5kNVgALzgg=                33   \n",
       "255  OhSuMZNvVEA4Wx2/t7sJc08w98GZGJyE+7RNVxd9Or8=                34   \n",
       "\n",
       "     payment_plan_days  plan_list_price  actual_amount_paid is_auto_renew  \\\n",
       "244                  0                0                 149             1   \n",
       "245                  0                0                 149             1   \n",
       "246                  0                0                 149             1   \n",
       "249                  0                0                 149             1   \n",
       "255                  0                0                 149             1   \n",
       "\n",
       "    transaction_date membership_expire_date is_cancel  \n",
       "244       2015-08-31             2015-09-30         0  \n",
       "245       2015-08-31             2015-09-30         0  \n",
       "246       2015-08-31             2015-09-30         0  \n",
       "249       2015-06-30             2015-07-31         0  \n",
       "255       2015-07-31             2015-08-31         0  "
      ]
     },
     "execution_count": 57,
     "metadata": {},
     "output_type": "execute_result"
    }
   ],
   "source": [
    "transactionsdf[transactionsdf.payment_plan_days == 0].head()"
   ]
  },
  {
   "cell_type": "code",
   "execution_count": 58,
   "metadata": {},
   "outputs": [
    {
     "data": {
      "text/html": [
       "<div>\n",
       "<style scoped>\n",
       "    .dataframe tbody tr th:only-of-type {\n",
       "        vertical-align: middle;\n",
       "    }\n",
       "\n",
       "    .dataframe tbody tr th {\n",
       "        vertical-align: top;\n",
       "    }\n",
       "\n",
       "    .dataframe thead th {\n",
       "        text-align: right;\n",
       "    }\n",
       "</style>\n",
       "<table border=\"1\" class=\"dataframe\">\n",
       "  <thead>\n",
       "    <tr style=\"text-align: right;\">\n",
       "      <th></th>\n",
       "      <th>msno</th>\n",
       "      <th>payment_method_id</th>\n",
       "      <th>payment_plan_days</th>\n",
       "      <th>plan_list_price</th>\n",
       "      <th>actual_amount_paid</th>\n",
       "      <th>is_auto_renew</th>\n",
       "      <th>transaction_date</th>\n",
       "      <th>membership_expire_date</th>\n",
       "      <th>is_cancel</th>\n",
       "    </tr>\n",
       "  </thead>\n",
       "  <tbody>\n",
       "    <tr>\n",
       "      <th>31</th>\n",
       "      <td>nttAL0YZASkTcHZH0nX7CsS1oUc5wLqMeJUqQSepslU=</td>\n",
       "      <td>35</td>\n",
       "      <td>7</td>\n",
       "      <td>0</td>\n",
       "      <td>0</td>\n",
       "      <td>0</td>\n",
       "      <td>2016-02-25</td>\n",
       "      <td>2016-03-25</td>\n",
       "      <td>0</td>\n",
       "    </tr>\n",
       "    <tr>\n",
       "      <th>111</th>\n",
       "      <td>lcQXwJNfBYda++AXuj9AzhWIMNyT52P2p1B1X4fRGDY=</td>\n",
       "      <td>35</td>\n",
       "      <td>7</td>\n",
       "      <td>0</td>\n",
       "      <td>0</td>\n",
       "      <td>0</td>\n",
       "      <td>2016-11-13</td>\n",
       "      <td>2016-11-20</td>\n",
       "      <td>0</td>\n",
       "    </tr>\n",
       "    <tr>\n",
       "      <th>114</th>\n",
       "      <td>TQBYDWyUqupf4EdTxSnO/4autGakpwxZJWNSSy25ROg=</td>\n",
       "      <td>38</td>\n",
       "      <td>7</td>\n",
       "      <td>0</td>\n",
       "      <td>0</td>\n",
       "      <td>0</td>\n",
       "      <td>2016-10-28</td>\n",
       "      <td>2017-03-19</td>\n",
       "      <td>0</td>\n",
       "    </tr>\n",
       "    <tr>\n",
       "      <th>350</th>\n",
       "      <td>6KrgpnP6HHn78FFbeTXG9kbR2XALAWMG1GrJSoLiHl8=</td>\n",
       "      <td>35</td>\n",
       "      <td>7</td>\n",
       "      <td>0</td>\n",
       "      <td>0</td>\n",
       "      <td>0</td>\n",
       "      <td>2015-06-07</td>\n",
       "      <td>2015-06-15</td>\n",
       "      <td>0</td>\n",
       "    </tr>\n",
       "    <tr>\n",
       "      <th>425</th>\n",
       "      <td>WWfFnkLCRMu6rA98VMHuQ7wAjlw4yI7wimym/tcUHw0=</td>\n",
       "      <td>35</td>\n",
       "      <td>7</td>\n",
       "      <td>0</td>\n",
       "      <td>0</td>\n",
       "      <td>0</td>\n",
       "      <td>2015-06-09</td>\n",
       "      <td>2015-06-15</td>\n",
       "      <td>0</td>\n",
       "    </tr>\n",
       "  </tbody>\n",
       "</table>\n",
       "</div>"
      ],
      "text/plain": [
       "                                             msno payment_method_id  \\\n",
       "31   nttAL0YZASkTcHZH0nX7CsS1oUc5wLqMeJUqQSepslU=                35   \n",
       "111  lcQXwJNfBYda++AXuj9AzhWIMNyT52P2p1B1X4fRGDY=                35   \n",
       "114  TQBYDWyUqupf4EdTxSnO/4autGakpwxZJWNSSy25ROg=                38   \n",
       "350  6KrgpnP6HHn78FFbeTXG9kbR2XALAWMG1GrJSoLiHl8=                35   \n",
       "425  WWfFnkLCRMu6rA98VMHuQ7wAjlw4yI7wimym/tcUHw0=                35   \n",
       "\n",
       "     payment_plan_days  plan_list_price  actual_amount_paid is_auto_renew  \\\n",
       "31                   7                0                   0             0   \n",
       "111                  7                0                   0             0   \n",
       "114                  7                0                   0             0   \n",
       "350                  7                0                   0             0   \n",
       "425                  7                0                   0             0   \n",
       "\n",
       "    transaction_date membership_expire_date is_cancel  \n",
       "31        2016-02-25             2016-03-25         0  \n",
       "111       2016-11-13             2016-11-20         0  \n",
       "114       2016-10-28             2017-03-19         0  \n",
       "350       2015-06-07             2015-06-15         0  \n",
       "425       2015-06-09             2015-06-15         0  "
      ]
     },
     "execution_count": 58,
     "metadata": {},
     "output_type": "execute_result"
    }
   ],
   "source": [
    "transactionsdf[transactionsdf.actual_amount_paid == 0].head()"
   ]
  },
  {
   "cell_type": "markdown",
   "metadata": {},
   "source": [
    "These 0 values actually represents value. And may be those paying 0 NTD may be on free trail period and some users did not choose a set plan and paying by the month."
   ]
  },
  {
   "cell_type": "code",
   "execution_count": 59,
   "metadata": {},
   "outputs": [],
   "source": [
    "transactionsdf.to_csv('trasactions_modified.csv')"
   ]
  },
  {
   "cell_type": "markdown",
   "metadata": {},
   "source": [
    "# User log data"
   ]
  },
  {
   "cell_type": "markdown",
   "metadata": {},
   "source": [
    "\n",
    "The user log dataset describes listening behaviors of a user at the daily level.\n",
    "\n",
    "msno: user id\n",
    "date: format %Y%m%d\n",
    "num_25: # of songs played less than 25% of the song length\n",
    "num_50: # of songs played between 25% to 50% of the song length\n",
    "num_75: # of songs played between 50% to 75% of of the song length\n",
    "num_985: # of songs played between 75% to 98.5% of the song length\n",
    "num_100: # of songs played over 98.5% of the song length\n",
    "num_unq: # of unique songs played\n",
    "total_secs: total seconds played"
   ]
  },
  {
   "cell_type": "markdown",
   "metadata": {},
   "source": [
    "The data set is large, lets process it in chunks and try to use only logs of those in train set is needed."
   ]
  },
  {
   "cell_type": "code",
   "execution_count": 14,
   "metadata": {},
   "outputs": [],
   "source": [
    "user_logsdf = pd.DataFrame()\n",
    "chunksize = 100000\n",
    "for chunk in pd.read_csv('user_logs_v2.csv', chunksize=chunksize):\n",
    "    df = chunk[chunk.msno.isin(traindf.msno.tolist())]\n",
    "    user_logsdf = user_logsdf.append(df)\n",
    "user_logsdf.reset_index(drop=True, inplace=True)\n"
   ]
  },
  {
   "cell_type": "code",
   "execution_count": 15,
   "metadata": {},
   "outputs": [
    {
     "data": {
      "text/html": [
       "<div>\n",
       "<style scoped>\n",
       "    .dataframe tbody tr th:only-of-type {\n",
       "        vertical-align: middle;\n",
       "    }\n",
       "\n",
       "    .dataframe tbody tr th {\n",
       "        vertical-align: top;\n",
       "    }\n",
       "\n",
       "    .dataframe thead th {\n",
       "        text-align: right;\n",
       "    }\n",
       "</style>\n",
       "<table border=\"1\" class=\"dataframe\">\n",
       "  <thead>\n",
       "    <tr style=\"text-align: right;\">\n",
       "      <th></th>\n",
       "      <th>msno</th>\n",
       "      <th>date</th>\n",
       "      <th>num_25</th>\n",
       "      <th>num_50</th>\n",
       "      <th>num_75</th>\n",
       "      <th>num_985</th>\n",
       "      <th>num_100</th>\n",
       "      <th>num_unq</th>\n",
       "      <th>total_secs</th>\n",
       "    </tr>\n",
       "  </thead>\n",
       "  <tbody>\n",
       "    <tr>\n",
       "      <th>0</th>\n",
       "      <td>qR/ndQ5B+1cY+c9ihwLoiz+RFiqEnGyQKo32ZErEVKo=</td>\n",
       "      <td>20170331</td>\n",
       "      <td>3</td>\n",
       "      <td>0</td>\n",
       "      <td>0</td>\n",
       "      <td>0</td>\n",
       "      <td>39</td>\n",
       "      <td>41</td>\n",
       "      <td>9786.842</td>\n",
       "    </tr>\n",
       "    <tr>\n",
       "      <th>1</th>\n",
       "      <td>N6ch5ArfJixq9mvARJv9ip1D11uvDVazz6Qup5mX7DI=</td>\n",
       "      <td>20170330</td>\n",
       "      <td>9</td>\n",
       "      <td>1</td>\n",
       "      <td>0</td>\n",
       "      <td>0</td>\n",
       "      <td>18</td>\n",
       "      <td>26</td>\n",
       "      <td>4920.255</td>\n",
       "    </tr>\n",
       "    <tr>\n",
       "      <th>2</th>\n",
       "      <td>Dde9YoZqShj9wZAgEm0mc+V995QOExh+1WRlL9oMQJg=</td>\n",
       "      <td>20170318</td>\n",
       "      <td>34</td>\n",
       "      <td>13</td>\n",
       "      <td>7</td>\n",
       "      <td>6</td>\n",
       "      <td>83</td>\n",
       "      <td>74</td>\n",
       "      <td>24825.041</td>\n",
       "    </tr>\n",
       "    <tr>\n",
       "      <th>3</th>\n",
       "      <td>J0BhO71yiNuIbyK+QkzR2Ih1PXarheWYO3EcZIQk5NQ=</td>\n",
       "      <td>20170316</td>\n",
       "      <td>0</td>\n",
       "      <td>0</td>\n",
       "      <td>0</td>\n",
       "      <td>0</td>\n",
       "      <td>3</td>\n",
       "      <td>3</td>\n",
       "      <td>697.004</td>\n",
       "    </tr>\n",
       "    <tr>\n",
       "      <th>4</th>\n",
       "      <td>tVOiYmrUNU0Qdc5VewEp9UzhUQXOO1VDC4APcmSjSLU=</td>\n",
       "      <td>20170322</td>\n",
       "      <td>0</td>\n",
       "      <td>0</td>\n",
       "      <td>0</td>\n",
       "      <td>0</td>\n",
       "      <td>189</td>\n",
       "      <td>72</td>\n",
       "      <td>37483.038</td>\n",
       "    </tr>\n",
       "  </tbody>\n",
       "</table>\n",
       "</div>"
      ],
      "text/plain": [
       "                                           msno      date  num_25  num_50  \\\n",
       "0  qR/ndQ5B+1cY+c9ihwLoiz+RFiqEnGyQKo32ZErEVKo=  20170331       3       0   \n",
       "1  N6ch5ArfJixq9mvARJv9ip1D11uvDVazz6Qup5mX7DI=  20170330       9       1   \n",
       "2  Dde9YoZqShj9wZAgEm0mc+V995QOExh+1WRlL9oMQJg=  20170318      34      13   \n",
       "3  J0BhO71yiNuIbyK+QkzR2Ih1PXarheWYO3EcZIQk5NQ=  20170316       0       0   \n",
       "4  tVOiYmrUNU0Qdc5VewEp9UzhUQXOO1VDC4APcmSjSLU=  20170322       0       0   \n",
       "\n",
       "   num_75  num_985  num_100  num_unq  total_secs  \n",
       "0       0        0       39       41    9786.842  \n",
       "1       0        0       18       26    4920.255  \n",
       "2       7        6       83       74   24825.041  \n",
       "3       0        0        3        3     697.004  \n",
       "4       0        0      189       72   37483.038  "
      ]
     },
     "execution_count": 15,
     "metadata": {},
     "output_type": "execute_result"
    }
   ],
   "source": [
    "user_logsdf.head()\n"
   ]
  },
  {
   "cell_type": "code",
   "execution_count": 17,
   "metadata": {},
   "outputs": [
    {
     "name": "stdout",
     "output_type": "stream",
     "text": [
      "<class 'pandas.core.frame.DataFrame'>\n",
      "RangeIndex: 1379990 entries, 0 to 1379989\n",
      "Data columns (total 9 columns):\n",
      " #   Column      Non-Null Count    Dtype  \n",
      "---  ------      --------------    -----  \n",
      " 0   msno        1379990 non-null  object \n",
      " 1   date        1379990 non-null  int64  \n",
      " 2   num_25      1379990 non-null  int64  \n",
      " 3   num_50      1379990 non-null  int64  \n",
      " 4   num_75      1379990 non-null  int64  \n",
      " 5   num_985     1379990 non-null  int64  \n",
      " 6   num_100     1379990 non-null  int64  \n",
      " 7   num_unq     1379990 non-null  int64  \n",
      " 8   total_secs  1379990 non-null  float64\n",
      "dtypes: float64(1), int64(7), object(1)\n",
      "memory usage: 94.8+ MB\n"
     ]
    }
   ],
   "source": [
    "user_logsdf.info()\n"
   ]
  },
  {
   "cell_type": "code",
   "execution_count": 19,
   "metadata": {},
   "outputs": [
    {
     "data": {
      "text/plain": [
       "79745"
      ]
     },
     "execution_count": 19,
     "metadata": {},
     "output_type": "execute_result"
    }
   ],
   "source": [
    "len(set(user_logsdf.msno))"
   ]
  },
  {
   "cell_type": "markdown",
   "metadata": {},
   "source": [
    "we have 79745 rows of unique users out of 1379990 rows of data.\n",
    "date column is in wrong foramt. Lets change it."
   ]
  },
  {
   "cell_type": "code",
   "execution_count": 21,
   "metadata": {},
   "outputs": [],
   "source": [
    "from datetime import datetime\n",
    "user_logsdf['date'] = user_logsdf['date'].astype('int')\n",
    "user_logsdf['date'] = user_logsdf['date'].apply(lambda x: datetime.strptime(str(x), \"%Y%m%d\").date() if pd.notnull(x) else None)"
   ]
  },
  {
   "cell_type": "code",
   "execution_count": 23,
   "metadata": {},
   "outputs": [
    {
     "data": {
      "text/html": [
       "<div>\n",
       "<style scoped>\n",
       "    .dataframe tbody tr th:only-of-type {\n",
       "        vertical-align: middle;\n",
       "    }\n",
       "\n",
       "    .dataframe tbody tr th {\n",
       "        vertical-align: top;\n",
       "    }\n",
       "\n",
       "    .dataframe thead th {\n",
       "        text-align: right;\n",
       "    }\n",
       "</style>\n",
       "<table border=\"1\" class=\"dataframe\">\n",
       "  <thead>\n",
       "    <tr style=\"text-align: right;\">\n",
       "      <th></th>\n",
       "      <th>num_25</th>\n",
       "      <th>num_50</th>\n",
       "      <th>num_75</th>\n",
       "      <th>num_985</th>\n",
       "      <th>num_100</th>\n",
       "      <th>num_unq</th>\n",
       "      <th>total_secs</th>\n",
       "    </tr>\n",
       "  </thead>\n",
       "  <tbody>\n",
       "    <tr>\n",
       "      <th>count</th>\n",
       "      <td>1.379990e+06</td>\n",
       "      <td>1.379990e+06</td>\n",
       "      <td>1.379990e+06</td>\n",
       "      <td>1.379990e+06</td>\n",
       "      <td>1.379990e+06</td>\n",
       "      <td>1.379990e+06</td>\n",
       "      <td>1.379990e+06</td>\n",
       "    </tr>\n",
       "    <tr>\n",
       "      <th>mean</th>\n",
       "      <td>6.204550e+00</td>\n",
       "      <td>1.492095e+00</td>\n",
       "      <td>9.357981e-01</td>\n",
       "      <td>1.060751e+00</td>\n",
       "      <td>2.995430e+01</td>\n",
       "      <td>2.887755e+01</td>\n",
       "      <td>7.827083e+03</td>\n",
       "    </tr>\n",
       "    <tr>\n",
       "      <th>std</th>\n",
       "      <td>1.364064e+01</td>\n",
       "      <td>3.691331e+00</td>\n",
       "      <td>1.855967e+00</td>\n",
       "      <td>2.673492e+00</td>\n",
       "      <td>3.944598e+01</td>\n",
       "      <td>3.173134e+01</td>\n",
       "      <td>9.603077e+03</td>\n",
       "    </tr>\n",
       "    <tr>\n",
       "      <th>min</th>\n",
       "      <td>0.000000e+00</td>\n",
       "      <td>0.000000e+00</td>\n",
       "      <td>0.000000e+00</td>\n",
       "      <td>0.000000e+00</td>\n",
       "      <td>0.000000e+00</td>\n",
       "      <td>1.000000e+00</td>\n",
       "      <td>1.900000e-02</td>\n",
       "    </tr>\n",
       "    <tr>\n",
       "      <th>25%</th>\n",
       "      <td>0.000000e+00</td>\n",
       "      <td>0.000000e+00</td>\n",
       "      <td>0.000000e+00</td>\n",
       "      <td>0.000000e+00</td>\n",
       "      <td>7.000000e+00</td>\n",
       "      <td>8.000000e+00</td>\n",
       "      <td>1.967771e+03</td>\n",
       "    </tr>\n",
       "    <tr>\n",
       "      <th>50%</th>\n",
       "      <td>2.000000e+00</td>\n",
       "      <td>1.000000e+00</td>\n",
       "      <td>0.000000e+00</td>\n",
       "      <td>0.000000e+00</td>\n",
       "      <td>1.700000e+01</td>\n",
       "      <td>1.800000e+01</td>\n",
       "      <td>4.588116e+03</td>\n",
       "    </tr>\n",
       "    <tr>\n",
       "      <th>75%</th>\n",
       "      <td>7.000000e+00</td>\n",
       "      <td>2.000000e+00</td>\n",
       "      <td>1.000000e+00</td>\n",
       "      <td>1.000000e+00</td>\n",
       "      <td>3.700000e+01</td>\n",
       "      <td>3.800000e+01</td>\n",
       "      <td>9.810413e+03</td>\n",
       "    </tr>\n",
       "    <tr>\n",
       "      <th>max</th>\n",
       "      <td>5.639000e+03</td>\n",
       "      <td>4.610000e+02</td>\n",
       "      <td>2.070000e+02</td>\n",
       "      <td>2.600000e+02</td>\n",
       "      <td>5.216000e+03</td>\n",
       "      <td>1.364000e+03</td>\n",
       "      <td>1.233170e+06</td>\n",
       "    </tr>\n",
       "  </tbody>\n",
       "</table>\n",
       "</div>"
      ],
      "text/plain": [
       "             num_25        num_50        num_75       num_985       num_100  \\\n",
       "count  1.379990e+06  1.379990e+06  1.379990e+06  1.379990e+06  1.379990e+06   \n",
       "mean   6.204550e+00  1.492095e+00  9.357981e-01  1.060751e+00  2.995430e+01   \n",
       "std    1.364064e+01  3.691331e+00  1.855967e+00  2.673492e+00  3.944598e+01   \n",
       "min    0.000000e+00  0.000000e+00  0.000000e+00  0.000000e+00  0.000000e+00   \n",
       "25%    0.000000e+00  0.000000e+00  0.000000e+00  0.000000e+00  7.000000e+00   \n",
       "50%    2.000000e+00  1.000000e+00  0.000000e+00  0.000000e+00  1.700000e+01   \n",
       "75%    7.000000e+00  2.000000e+00  1.000000e+00  1.000000e+00  3.700000e+01   \n",
       "max    5.639000e+03  4.610000e+02  2.070000e+02  2.600000e+02  5.216000e+03   \n",
       "\n",
       "            num_unq    total_secs  \n",
       "count  1.379990e+06  1.379990e+06  \n",
       "mean   2.887755e+01  7.827083e+03  \n",
       "std    3.173134e+01  9.603077e+03  \n",
       "min    1.000000e+00  1.900000e-02  \n",
       "25%    8.000000e+00  1.967771e+03  \n",
       "50%    1.800000e+01  4.588116e+03  \n",
       "75%    3.800000e+01  9.810413e+03  \n",
       "max    1.364000e+03  1.233170e+06  "
      ]
     },
     "execution_count": 23,
     "metadata": {},
     "output_type": "execute_result"
    }
   ],
   "source": [
    "user_logsdf.describe()\n"
   ]
  },
  {
   "cell_type": "markdown",
   "metadata": {},
   "source": [
    "Looks like there are no missing values and consider data cleaning is complete."
   ]
  },
  {
   "cell_type": "code",
   "execution_count": null,
   "metadata": {},
   "outputs": [],
   "source": []
  }
 ],
 "metadata": {
  "kernelspec": {
   "display_name": "Python 3",
   "language": "python",
   "name": "python3"
  },
  "language_info": {
   "codemirror_mode": {
    "name": "ipython",
    "version": 3
   },
   "file_extension": ".py",
   "mimetype": "text/x-python",
   "name": "python",
   "nbconvert_exporter": "python",
   "pygments_lexer": "ipython3",
   "version": "3.7.6"
  }
 },
 "nbformat": 4,
 "nbformat_minor": 4
}
